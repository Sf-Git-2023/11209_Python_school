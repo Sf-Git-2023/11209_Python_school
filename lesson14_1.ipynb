{
 "cells": [
  {
   "cell_type": "code",
   "execution_count": null,
   "metadata": {},
   "outputs": [],
   "source": [
    "import password\n",
    "url = f\"https://data.moenv.gov.tw/api/v2/aqx_p_07?api_key={password.apikey}\"\n",
    "print(url)"
   ]
  }
 ],
 "metadata": {
  "language_info": {
   "name": "python"
  }
 },
 "nbformat": 4,
 "nbformat_minor": 2
}
