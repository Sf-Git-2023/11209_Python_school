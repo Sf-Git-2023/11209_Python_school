{
 "cells": [
  {
   "cell_type": "code",
   "execution_count": 2,
   "metadata": {},
   "outputs": [
    {
     "name": "stdout",
     "output_type": "stream",
     "text": [
      "https://data.moenv.gov.tw/api/v2/aqx_p_07?api_key=cff8f054-4571-4198-8402-6da0363e3be1\n",
      "下載成功\n"
     ]
    }
   ],
   "source": [
    "import password\n",
    "import requests\n",
    "url = f\"https://data.moenv.gov.tw/api/v2/aqx_p_07?api_key={password.apikey}\"\n",
    "print(url)\n",
    "res = requests.get(url)\n",
    "\n",
    "if res.ok:\n",
    "    print(\"下載成功\")\n",
    "else:\n",
    "    print(\"下載失敗\")"
   ]
  }
 ],
 "metadata": {
  "kernelspec": {
   "display_name": ".venv",
   "language": "python",
   "name": "python3"
  },
  "language_info": {
   "codemirror_mode": {
    "name": "ipython",
    "version": 3
   },
   "file_extension": ".py",
   "mimetype": "text/x-python",
   "name": "python",
   "nbconvert_exporter": "python",
   "pygments_lexer": "ipython3",
   "version": "3.10.8"
  }
 },
 "nbformat": 4,
 "nbformat_minor": 2
}
