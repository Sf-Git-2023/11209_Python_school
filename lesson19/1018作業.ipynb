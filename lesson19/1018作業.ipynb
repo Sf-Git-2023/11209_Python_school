{
 "cells": [
  {
   "cell_type": "code",
   "execution_count": null,
   "metadata": {},
   "outputs": [],
   "source": [
    "import requests\n",
    "url = 'https://tcgbusfs.blob.core.windows.net/dotapp/youbike/v2/youbike_immediate.json'\n",
    "try:\n",
    "    response = requests.request('GET',url)\n",
    "    response.raise_for_status()\n",
    "except:\n",
    "    print(\"網路有問題\")\n",
    "else:\n",
    "    if response.status_code == 200:\n",
    "        try:\n",
    "            data = response.json()\n",
    "        except requests.JSONDecodeError:\n",
    "            print(\"無法轉換為josn\")"
   ]
  },
  {
   "cell_type": "code",
   "execution_count": null,
   "metadata": {},
   "outputs": [],
   "source": [
    "data"
   ]
  },
  {
   "cell_type": "code",
   "execution_count": null,
   "metadata": {},
   "outputs": [],
   "source": [
    "import sqlite3\n",
    "def create_table(conn):    \n",
    "    cursor = conn.cursor()\n",
    "    cursor.execute(\n",
    "        '''\n",
    "        CREATE TABLE  IF NOT EXISTS 台積電股價(\n",
    "            \"日期:\"\tINTEGER,\n",
    "            \"開盤價:\"\tTEXT NOT NULL,\n",
    "            \"盤中最高價:\"\tTEXT NOT NULL,\n",
    "            \"盤中最低價:\"\tTEXT NOT NULL,\n",
    "            \"收盤價:\"\tTEXT,\n",
    "            \"調整後收盤價:\"\tINTEGER,\n",
    "            \"成交量:\"\tINTEGER,\n",
    "            \"可還\"\tINTEGER,\n",
    "            PRIMARY KEY(\"id\" AUTOINCREMENT)\n",
    "        );\n",
    "        '''\n",
    "    )\n",
    "    conn.commit()\n",
    "\n",
    "def insert_data(conn,values):\n",
    "    cursor = conn.cursor()\n",
    "    sql = '''\n",
    "    INSERT INTO 台積電股價(站點名稱,行政區,更新時間,地址,總車輛數,可借,可還)\n",
    "        VALUES(?,?,?,?,?,?,?)\n",
    "    '''\n",
    "    cursor.execute(sql,values)\n",
    "    conn.commit()\n",
    "\n",
    "conn = sqlite3.connect(\"台積電股價.db\")\n",
    "create_table(conn)\n",
    "\n",
    "for item in data:\n",
    "    insert_data(conn,[item['Date'],item['Open'],item['High'],item['Low'],item['Close'],item['Adj Close'],item['Volume']])"
   ]
  }
 ],
 "metadata": {
  "kernelspec": {
   "display_name": ".venv",
   "language": "python",
   "name": "python3"
  },
  "language_info": {
   "codemirror_mode": {
    "name": "ipython",
    "version": 3
   },
   "file_extension": ".py",
   "mimetype": "text/x-python",
   "name": "python",
   "nbconvert_exporter": "python",
   "pygments_lexer": "ipython3",
   "version": "3.10.8"
  }
 },
 "nbformat": 4,
 "nbformat_minor": 2
}
