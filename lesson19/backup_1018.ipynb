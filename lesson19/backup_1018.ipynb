{
 "cells": [
  {
   "cell_type": "code",
   "execution_count": null,
   "metadata": {},
   "outputs": [],
   "source": [
    "import sqlite3\n",
    "def create_table(conn):    \n",
    "    cursor = conn.cursor()\n",
    "    cursor.execute(\n",
    "        '''\n",
    "        CREATE TABLE  IF NOT EXISTS 台北市(\n",
    "            \"id\"\tINTEGER,\n",
    "            \"站點名稱\"\tTEXT NOT NULL,\n",
    "            \"行政區\"\tTEXT NOT NULL,\n",
    "            \"更新時間\"\tTEXT NOT NULL,\n",
    "            \"地址\"\tTEXT,\n",
    "            \"總車輛數\"\tINTEGER,\n",
    "            \"可借\"\tINTEGER,\n",
    "            \"可還\"\tINTEGER,\n",
    "            PRIMARY KEY(\"id\" AUTOINCREMENT)\n",
    "        );\n",
    "        '''\n",
    "    )\n",
    "    \n",
    "\n",
    "conn = sqlite3.connect(\"youbike.db\")\n",
    "create_table(conn)\n",
    "conn.commit()"
   ]
  },
  {
   "cell_type": "code",
   "execution_count": null,
   "metadata": {},
   "outputs": [],
   "source": [
    "import sqlite3\n",
    "con = sqlite3.connect(\"youbike.db\")\n",
    "cursor = con.cursor()\n",
    "cursor.execute(\n",
    "    '''\n",
    "    CREATE TABLE  IF NOT EXISTS 台北市(\n",
    "        \"id\"\tINTEGER,\n",
    "\t    \"站點名稱\"\tTEXT NOT NULL,\n",
    "\t    \"行政區\"\tTEXT NOT NULL,\n",
    "\t    \"更新時間\"\tTEXT NOT NULL,\n",
    "\t    \"地址\"\tTEXT,\n",
    "\t    \"總車輛數\"\tINTEGER,\n",
    "\t    \"可借\"\tINTEGER,\n",
    "\t    \"可還\"\tINTEGER,\n",
    "\t    PRIMARY KEY(\"id\" AUTOINCREMENT)\n",
    "    );\n",
    "    '''\n",
    "    )\n",
    "con.commit()"
   ]
  },
  {
   "cell_type": "code",
   "execution_count": null,
   "metadata": {},
   "outputs": [],
   "source": [
    "import sqlite3\n",
    "con = sqlite3.connect"
   ]
  }
 ],
 "metadata": {
  "language_info": {
   "name": "python"
  }
 },
 "nbformat": 4,
 "nbformat_minor": 2
}
