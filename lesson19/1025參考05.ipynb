{
 "cells": [
  {
   "cell_type": "code",
   "execution_count": null,
   "metadata": {},
   "outputs": [],
   "source": [
    "#import yfinance as yf\n",
    "import csv\n",
    "\n",
    "#data = yf.download(\"2330.TW\", start='2023-01-01')\n",
    "#data.to_csv('台積電.csv')\n",
    "\n",
    "\n",
    "file = open('台積電.csv',encoding='utf-8',mode='r',newline='')    \n",
    "#print(file.read())\n",
    "#csv_reader=csv.reader(file)\n",
    "csv_DictReader=csv.DictReader(file)\n",
    "print(\"************************\")\n",
    "#csv_list=list(csv_reader)\n",
    "csv_list = list(csv_DictReader)\n",
    "print(csv_list)\n",
    "\n",
    "file.close() #實體方法\n",
    "print(file.closed) #實體attribute"
   ]
  },
  {
   "cell_type": "code",
   "execution_count": null,
   "metadata": {},
   "outputs": [],
   "source": [
    "import sqlite3\n",
    "def create_table(conn):    \n",
    "    cursor = conn.cursor()\n",
    "    cursor.execute(\n",
    "        '''\n",
    "        CREATE TABLE  IF NOT EXISTS 台積電股價(\n",
    "            \"id\"\tINTEGER,\n",
    "            \"日期\"\tTEXT NOT NULL,\n",
    "            \"開盤價\"\tTEXT NOT NULL,\n",
    "            \"最高價\"\tTEXT NOT NULL,\n",
    "            \"最低價\"\tTEXT,\n",
    "            \"收盤價\"\tINTEGER,\n",
    "            \"收盤調整價\"\tINTEGER,\n",
    "            \"成交量\"\tINTEGER,\n",
    "            PRIMARY KEY(\"id\" AUTOINCREMENT)\n",
    "        );\n",
    "        '''\n",
    "    )\n",
    "    conn.commit()\n",
    "\n",
    "def insert_data(conn,values):\n",
    "    cursor = conn.cursor()\n",
    "    sql = '''\n",
    "    INSERT INTO 台積電股價(日期,開盤價,最高價,最低價,收盤價,收盤調整價,成交量)\n",
    "        VALUES(?,?,?,?,?,?,?)\n",
    "    '''\n",
    "    cursor.execute(sql,values)\n",
    "    conn.commit()\n",
    "\n",
    "\n",
    "conn = sqlite3.connect(\"台積電股價.db\")\n",
    "create_table(conn)\n",
    "\n",
    "for item in csv_list:\n",
    "    insert_data(conn,[item['Date'],item['Open'],item['High'],item['Low'],item['Close'],item['Adj Close'],item['Volume']])"
   ]
  }
 ],
 "metadata": {
  "language_info": {
   "name": "python"
  }
 },
 "nbformat": 4,
 "nbformat_minor": 2
}
