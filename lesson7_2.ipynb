{
 "cells": [
  {
   "cell_type": "markdown",
   "metadata": {},
   "source": [
    "## 作業1\n"
   ]
  },
  {
   "cell_type": "code",
   "execution_count": 1,
   "metadata": {},
   "outputs": [
    {
     "name": "stdout",
     "output_type": "stream",
     "text": [
      "請輸入身高,單位為(公分):"
     ]
    },
    {
     "name": "stdout",
     "output_type": "stream",
     "text": [
      "身高 20 公分\n",
      "請輸入體重,單位為(公斤):體重 20 公斤\n",
      "您的BMI是499.9999999999999\n",
      "您的體重肥胖\n"
     ]
    }
   ],
   "source": [
    "import pyinputplus as pyip\n",
    "body_height = pyip.inputInt(\"請輸入身高,單位為(公分):\")\n",
    "print( \"身高\", body_height, \"公分\")\n",
    "body_weight = pyip.inputInt(\"請輸入體重,單位為(公斤):\")\n",
    "print( \"體重\",body_weight,\"公斤\")\n",
    "\n",
    "BMI = body_weight / ((body_height/100)**2)\n",
    "print(f\"您的BMI是{BMI}\")\n",
    "if BMI < 18.5:\n",
    "    print(\"您的體重太輕\")\n",
    "elif BMI <= 25:\n",
    "    print(\"您的體重正常\")\n",
    "elif BMI <= 30:\n",
    "    print(\"您的體重過重\")\n",
    "else:\n",
    "    print(\"您的體重肥胖\")"
   ]
  },
  {
   "cell_type": "markdown",
   "metadata": {},
   "source": [
    "## 作業2"
   ]
  },
  {
   "cell_type": "code",
   "execution_count": 1,
   "metadata": {},
   "outputs": [
    {
     "name": "stdout",
     "output_type": "stream",
     "text": [
      "正常\n"
     ]
    }
   ],
   "source": [
    "SBP = int(input(\"請輸入收縮壓\"))\n",
    "DBP = int(input(\"請輸入舒張壓\"))\n",
    "\n",
    "if SBP < 120 and DBP < 80 :\n",
    "    print(\"正常\")\n",
    "elif 120 <= SBP <= 129 and DBP < 80 :\n",
    "    print(\"血壓升高\")\n",
    "elif 130 <= SBP <= 139 and 80 <= DBP <= 89 :\n",
    "    print(\"高血壓第一期\")\n",
    "elif SBP >= 140 and DBP >= 89 :\n",
    "    print(\"高血壓第二期\")\n",
    "elif SBP >= 130 and DBP < 80 :\n",
    "    print(\"單純收縮期高血壓\")\n",
    "else:\n",
    "    print(\"不正常, 請重測\")"
   ]
  }
 ],
 "metadata": {
  "kernelspec": {
   "display_name": ".venv",
   "language": "python",
   "name": "python3"
  },
  "language_info": {
   "codemirror_mode": {
    "name": "ipython",
    "version": 3
   },
   "file_extension": ".py",
   "mimetype": "text/x-python",
   "name": "python",
   "nbconvert_exporter": "python",
   "pygments_lexer": "ipython3",
   "version": "3.10.8"
  },
  "orig_nbformat": 4
 },
 "nbformat": 4,
 "nbformat_minor": 2
}
