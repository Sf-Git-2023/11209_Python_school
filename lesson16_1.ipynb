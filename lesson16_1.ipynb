{
 "cells": [
  {
   "cell_type": "code",
   "execution_count": null,
   "metadata": {},
   "outputs": [],
   "source": [
    "import requests\n",
    "import csv\n",
    "import io\n",
    "\n",
    "def download() -> list[list]:\n",
    "    url = 'https://data.moi.gov.tw/MoiOD/System/DownloadFile.aspx?DATA=CA18EE06-4A50-4861-9D97-7853353D7108'\n",
    "    response = requests.request('GET',url)\n",
    "    try:\n",
    "        response.raise_for_status()\n",
    "    except:\n",
    "        raise Exception(\"連線發生錯誤\",\"網路中斷\")    \n",
    "    else:\n",
    "        if not response.ok:\n",
    "            raise Exception(\"下載錯誤\",\"伺服器錯誤訊息!\")    \n",
    "        else:\n",
    "            file = io.StringIO(response.text)\n",
    "            csv_reader = csv.reader(file)\n",
    "            next(csv_reader)\n",
    "            return list(csv_reader)"
   ]
  },
  {
   "cell_type": "code",
   "execution_count": null,
   "metadata": {},
   "outputs": [],
   "source": [
    "try:\n",
    "    data_list = download()    \n",
    "except Exception as e:\n",
    "    print(f\"錯誤:{e}\")\n",
    "else:\n",
    "    for row in data_list:\n",
    "        print(row)"
   ]
  },
  {
   "cell_type": "code",
   "execution_count": null,
   "metadata": {},
   "outputs": [],
   "source": []
  }
 ],
 "metadata": {
  "kernelspec": {
   "display_name": ".venv",
   "language": "python",
   "name": "python3"
  },
  "language_info": {
   "codemirror_mode": {
    "name": "ipython",
    "version": 3
   },
   "file_extension": ".py",
   "mimetype": "text/x-python",
   "name": "python",
   "nbconvert_exporter": "python",
   "pygments_lexer": "ipython3",
   "version": "3.10.8"
  }
 },
 "nbformat": 4,
 "nbformat_minor": 2
}
