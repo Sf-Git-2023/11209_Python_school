{
 "cells": [
  {
   "cell_type": "code",
   "execution_count": 3,
   "metadata": {},
   "outputs": [
    {
     "ename": "AttributeError",
     "evalue": "module 'password' has no attribute 'DATABASE'",
     "output_type": "error",
     "traceback": [
      "\u001b[1;31m---------------------------------------------------------------------------\u001b[0m",
      "\u001b[1;31mAttributeError\u001b[0m                            Traceback (most recent call last)",
      "\u001b[1;32mc:\\Users\\SF\\Documents\\GitHub\\11209_Python_school\\1108_作業\\index.ipynb 儲存格 1\u001b[0m line \u001b[0;36m6\n\u001b[0;32m      <a href='vscode-notebook-cell:/c%3A/Users/SF/Documents/GitHub/11209_Python_school/1108_%E4%BD%9C%E6%A5%AD/index.ipynb#W0sZmlsZQ%3D%3D?line=2'>3</a>\u001b[0m \u001b[39mimport\u001b[39;00m \u001b[39mcsv\u001b[39;00m\n\u001b[0;32m      <a href='vscode-notebook-cell:/c%3A/Users/SF/Documents/GitHub/11209_Python_school/1108_%E4%BD%9C%E6%A5%AD/index.ipynb#W0sZmlsZQ%3D%3D?line=3'>4</a>\u001b[0m \u001b[39mtry\u001b[39;00m:\n\u001b[0;32m      <a href='vscode-notebook-cell:/c%3A/Users/SF/Documents/GitHub/11209_Python_school/1108_%E4%BD%9C%E6%A5%AD/index.ipynb#W0sZmlsZQ%3D%3D?line=4'>5</a>\u001b[0m     conn \u001b[39m=\u001b[39m psycopg2\u001b[39m.\u001b[39mconnect(\n\u001b[1;32m----> <a href='vscode-notebook-cell:/c%3A/Users/SF/Documents/GitHub/11209_Python_school/1108_%E4%BD%9C%E6%A5%AD/index.ipynb#W0sZmlsZQ%3D%3D?line=5'>6</a>\u001b[0m                         database\u001b[39m=\u001b[39mpw\u001b[39m.\u001b[39;49mDATABASE,\n\u001b[0;32m      <a href='vscode-notebook-cell:/c%3A/Users/SF/Documents/GitHub/11209_Python_school/1108_%E4%BD%9C%E6%A5%AD/index.ipynb#W0sZmlsZQ%3D%3D?line=6'>7</a>\u001b[0m                         user\u001b[39m=\u001b[39mpw\u001b[39m.\u001b[39mUSER, \n\u001b[0;32m      <a href='vscode-notebook-cell:/c%3A/Users/SF/Documents/GitHub/11209_Python_school/1108_%E4%BD%9C%E6%A5%AD/index.ipynb#W0sZmlsZQ%3D%3D?line=7'>8</a>\u001b[0m                         password\u001b[39m=\u001b[39mpw\u001b[39m.\u001b[39mPASSWORD,\n\u001b[0;32m      <a href='vscode-notebook-cell:/c%3A/Users/SF/Documents/GitHub/11209_Python_school/1108_%E4%BD%9C%E6%A5%AD/index.ipynb#W0sZmlsZQ%3D%3D?line=8'>9</a>\u001b[0m                         host\u001b[39m=\u001b[39mpw\u001b[39m.\u001b[39mHOST, \n\u001b[0;32m     <a href='vscode-notebook-cell:/c%3A/Users/SF/Documents/GitHub/11209_Python_school/1108_%E4%BD%9C%E6%A5%AD/index.ipynb#W0sZmlsZQ%3D%3D?line=9'>10</a>\u001b[0m                         port\u001b[39m=\u001b[39m\u001b[39m\"\u001b[39m\u001b[39m5432\u001b[39m\u001b[39m\"\u001b[39m)\n\u001b[0;32m     <a href='vscode-notebook-cell:/c%3A/Users/SF/Documents/GitHub/11209_Python_school/1108_%E4%BD%9C%E6%A5%AD/index.ipynb#W0sZmlsZQ%3D%3D?line=10'>11</a>\u001b[0m \u001b[39mexcept\u001b[39;00m psycopg2\u001b[39m.\u001b[39mError \u001b[39mas\u001b[39;00m e:\n\u001b[0;32m     <a href='vscode-notebook-cell:/c%3A/Users/SF/Documents/GitHub/11209_Python_school/1108_%E4%BD%9C%E6%A5%AD/index.ipynb#W0sZmlsZQ%3D%3D?line=11'>12</a>\u001b[0m     \u001b[39mprint\u001b[39m(\u001b[39m\"\u001b[39m\u001b[39merror\u001b[39m\u001b[39m\"\u001b[39m)\n",
      "\u001b[1;31mAttributeError\u001b[0m: module 'password' has no attribute 'DATABASE'"
     ]
    }
   ],
   "source": [
    "import psycopg2\n",
    "import password as pw\n",
    "import csv\n",
    "try:\n",
    "    conn = psycopg2.connect(\n",
    "                        database=pw.DATABASE,\n",
    "                        user=pw.USER, \n",
    "                        password=pw.PASSWORD,\n",
    "                        host=pw.HOST, \n",
    "                        port=\"5432\")\n",
    "except psycopg2.Error as e:\n",
    "    print(\"error\")\n",
    "    print(e)\n",
    "else:\n",
    "    print(\"連線成功\")\n",
    "    print(conn)"
   ]
  },
  {
   "cell_type": "code",
   "execution_count": null,
   "metadata": {},
   "outputs": [],
   "source": [
    "cur = conn.cursor()\n",
    "table_name = '台北市youbike(站點名稱,行政區,更新時間,地址,總車輛數,可借,可還)'\n",
    "csv_file = './youbike.csv'\n",
    "with open(csv_file, 'r', encoding='utf-8') as file:\n",
    "    reader = csv.reader(file)\n",
    "\n",
    "    for row i reader:\n",
    "        placeholders = ','.join(['%s']*len(row))\n",
    "        insert_query = f\"INSERT INTO {table_name} VALUES ({placeholders})\"\n",
    "        cur.execute(insert_query, row)\n",
    "\n",
    "conn.commit()\n",
    "\n",
    "cur.close()\n",
    "conn.close()\n"
   ]
  }
 ],
 "metadata": {
  "kernelspec": {
   "display_name": ".venv",
   "language": "python",
   "name": "python3"
  },
  "language_info": {
   "codemirror_mode": {
    "name": "ipython",
    "version": 3
   },
   "file_extension": ".py",
   "mimetype": "text/x-python",
   "name": "python",
   "nbconvert_exporter": "python",
   "pygments_lexer": "ipython3",
   "version": "3.10.8"
  }
 },
 "nbformat": 4,
 "nbformat_minor": 2
}
