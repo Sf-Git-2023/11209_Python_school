{
 "cells": [
  {
   "cell_type": "code",
   "execution_count": 1,
   "metadata": {},
   "outputs": [
    {
     "ename": "ModuleNotFoundError",
     "evalue": "No module named 'psycopg2'",
     "output_type": "error",
     "traceback": [
      "\u001b[1;31m---------------------------------------------------------------------------\u001b[0m",
      "\u001b[1;31mModuleNotFoundError\u001b[0m                       Traceback (most recent call last)",
      "\u001b[1;32mc:\\Users\\SF\\Documents\\GitHub\\11209_Python_school\\youbike_render\\test1.ipynb 儲存格 1\u001b[0m line \u001b[0;36m1\n\u001b[1;32m----> <a href='vscode-notebook-cell:/c%3A/Users/SF/Documents/GitHub/11209_Python_school/youbike_render/test1.ipynb#W0sZmlsZQ%3D%3D?line=0'>1</a>\u001b[0m \u001b[39mimport\u001b[39;00m \u001b[39mpsycopg2\u001b[39;00m\n\u001b[0;32m      <a href='vscode-notebook-cell:/c%3A/Users/SF/Documents/GitHub/11209_Python_school/youbike_render/test1.ipynb#W0sZmlsZQ%3D%3D?line=1'>2</a>\u001b[0m \u001b[39mimport\u001b[39;00m \u001b[39mpassword\u001b[39;00m \u001b[39mas\u001b[39;00m \u001b[39mpw\u001b[39;00m\n\u001b[0;32m      <a href='vscode-notebook-cell:/c%3A/Users/SF/Documents/GitHub/11209_Python_school/youbike_render/test1.ipynb#W0sZmlsZQ%3D%3D?line=2'>3</a>\u001b[0m \u001b[39mtry\u001b[39;00m:\n",
      "\u001b[1;31mModuleNotFoundError\u001b[0m: No module named 'psycopg2'"
     ]
    }
   ],
   "source": [
    "import psycopg2\n",
    "import password as pw\n",
    "try:\n",
    "    conn = psycopg2.connect(database=pw.DATABASE,\n",
    "                        user=pw.USER, \n",
    "                        password=pw.PASSWORD,\n",
    "                        host=pw.HOST, \n",
    "                        port=\"5432\")\n",
    "except psycopg2.Error as e:\n",
    "    print(\"error\")\n",
    "    print(e)\n",
    "else:\n",
    "    print(\"連線成功\")\n",
    "    print(conn)\n",
    "    "
   ]
  },
  {
   "cell_type": "code",
   "execution_count": 2,
   "metadata": {},
   "outputs": [
    {
     "name": "stdout",
     "output_type": "stream",
     "text": [
      "[(1, 'Youbike2.0_一壽', '文山區', '2023-11-08 10:43:17', '樟新街64號前方', 100, 100, 15)]\n"
     ]
    }
   ],
   "source": [
    "sql = \"select * from 台北市youbike\"\n",
    "with conn.cursor() as cursor:\n",
    "    cursor.execute(sql)\n",
    "    records = cursor.fetchall()\n",
    "\n",
    "print(records)"
   ]
  },
  {
   "cell_type": "code",
   "execution_count": 3,
   "metadata": {},
   "outputs": [
    {
     "name": "stdout",
     "output_type": "stream",
     "text": [
      "[(3, 'YouBike2.0_一壽橋', '文山區', '2023-11-08 10:43:18', '樟新街64號前方', 100, 100, 15)]\n"
     ]
    }
   ],
   "source": [
    "sql = '''\n",
    "INSERT INTO 台北市youbike(站點名稱,行政區,更新時間,地址,總車輛數,可借,可還)\n",
    "VALUES('YouBike2.0_一壽橋','文山區','2023-11-08 10:43:18','樟新街64號前方',100,100,15)\n",
    "'''\n",
    "with conn.cursor() as cursor:\n",
    "    cursor.execute(sql)\n",
    "    conn.commit()\n",
    "\n",
    "sql1 = '''\n",
    "select * \n",
    "from 台北市youbike\n",
    "where 站點名稱 = 'YouBike2.0_一壽橋'\n",
    "'''\n",
    "\n",
    "with conn.cursor() as cursor:\n",
    "    cursor.execute(sql1)\n",
    "    records = cursor.fetchall()\n",
    "\n",
    "print(records)"
   ]
  }
 ],
 "metadata": {
  "kernelspec": {
   "display_name": ".venv",
   "language": "python",
   "name": "python3"
  },
  "language_info": {
   "codemirror_mode": {
    "name": "ipython",
    "version": 3
   },
   "file_extension": ".py",
   "mimetype": "text/x-python",
   "name": "python",
   "nbconvert_exporter": "python",
   "pygments_lexer": "ipython3",
   "version": "3.10.8"
  }
 },
 "nbformat": 4,
 "nbformat_minor": 2
}
