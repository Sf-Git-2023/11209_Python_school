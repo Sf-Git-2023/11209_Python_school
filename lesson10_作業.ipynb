{
 "cells": [
  {
   "cell_type": "markdown",
   "metadata": {},
   "source": [
    "# Play Dice 0927-23"
   ]
  },
  {
   "cell_type": "code",
   "execution_count": 15,
   "metadata": {},
   "outputs": [
    {
     "name": "stdout",
     "output_type": "stream",
     "text": [
      "===============骰子遊戲=================:\n",
      "\n",
      "骰子: 1, 1, 6, 6\n",
      "count_same: 2\n",
      "Dice_sum: 14\n",
      "comp1: 2\n",
      "comp2: 0\n",
      "comp3: 0\n",
      "comp4: 0\n",
      "comp5: 0\n",
      "comp6: 12\n",
      "comp_sum: 14\n",
      "結果:7.0\n",
      "還要繼續嗎?(y,n)遊戲結束\n"
     ]
    }
   ],
   "source": [
    "import random\n",
    "import pyinputplus as pyip\n",
    "\n",
    "def playGame():\n",
    "    min = 1\n",
    "    max = 6\n",
    "    count_same = 0\n",
    "    Dice_1 = random.randint(min, max)\n",
    "    Dice_2 = random.randint(min, max)\n",
    "    Dice_3 = random.randint(min, max)\n",
    "    Dice_4 = random.randint(min, max)\n",
    "    Dice_1 = 1\n",
    "    Dice_2 = 1\n",
    "    Dice_3 = 6\n",
    "    Dice_4 = 6\n",
    "    comp1 = 0\n",
    "    comp2 = 0\n",
    "    comp3 = 0\n",
    "    comp4 = 0\n",
    "    comp5 = 0\n",
    "    comp6 = 0\n",
    "    result= 0\n",
    "    print(\"===============骰子遊戲=================:\\n\")\n",
    "    print(f\"骰子: {Dice_1}, {Dice_2}, {Dice_3}, {Dice_4}\")\n",
    "        # 骰子比較\n",
    "    if (Dice_1 == Dice_2):\n",
    "        comp1 = Dice_1+Dice_2\n",
    "        count_same+=1\n",
    "    if (Dice_1 == Dice_3):\n",
    "        comp2 = Dice_1+Dice_3\n",
    "        count_same+=1 \n",
    "    if (Dice_1 == Dice_4):\n",
    "        comp3 = Dice_1+Dice_4\n",
    "        count_same+=1\n",
    "    if (Dice_2 == Dice_3):\n",
    "        comp4 = Dice_2+Dice_3\n",
    "        count_same+=1     \n",
    "    if (Dice_2 == Dice_4):\n",
    "        comp5 = Dice_2+Dice_4\n",
    "        count_same+=1\n",
    "    if (Dice_3 == Dice_4):\n",
    "        comp6 = Dice_3+Dice_4\n",
    "        count_same+=1 \n",
    "    # 骰子比較結果計算\n",
    "    print(f\"count_same: {count_same}\")\n",
    "    Dice_sum= Dice_1+Dice_2+Dice_3+Dice_4\n",
    "    print(f\"Dice_sum: {Dice_sum}\")\n",
    "    \n",
    "    print(f\"comp1: {comp1}\")\n",
    "    print(f\"comp2: {comp2}\")\n",
    "    print(f\"comp3: {comp3}\")\n",
    "    print(f\"comp4: {comp4}\")\n",
    "    print(f\"comp5: {comp5}\")\n",
    "    print(f\"comp6: {comp6}\")\n",
    "\n",
    "    comp_sum= comp1+comp2+comp3+comp4+comp5+comp6\n",
    "    print(f\"comp_sum: {comp_sum}\")\n",
    "\n",
    "    if (count_same == 1):\n",
    "        \n",
    "        result= Dice_sum - comp_sum\n",
    "        print(f\"結果:{result}\")\n",
    "    elif(count_same == 2):\n",
    "        result= Dice_sum/2\n",
    "        print(f\"結果:{result}\")   \n",
    "        \n",
    "    elif(count_same == 6):\n",
    "        result= Dice_sum/2\n",
    "        print(f\"結果:{result}\")\n",
    "        \n",
    "    else:\n",
    "        print()\n",
    "        print(f\"骰子點數不符遊戲規則\")\n",
    "        \n",
    "        \n",
    "while (True):\n",
    "    playGame()\n",
    "    answer = pyip.inputYesNo(prompt=\"還要繼續嗎?(y,n)\",yesVal='y',noVal='n')\n",
    "    if not (answer == 'y'):\n",
    "        break\n",
    "print(\"遊戲結束\")"
   ]
  },
  {
   "cell_type": "markdown",
   "metadata": {},
   "source": []
  }
 ],
 "metadata": {
  "kernelspec": {
   "display_name": ".venv",
   "language": "python",
   "name": "python3"
  },
  "language_info": {
   "codemirror_mode": {
    "name": "ipython",
    "version": 3
   },
   "file_extension": ".py",
   "mimetype": "text/x-python",
   "name": "python",
   "nbconvert_exporter": "python",
   "pygments_lexer": "ipython3",
   "version": "3.10.8"
  },
  "orig_nbformat": 4
 },
 "nbformat": 4,
 "nbformat_minor": 2
}
