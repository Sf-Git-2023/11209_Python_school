{
 "cells": [
  {
   "cell_type": "markdown",
   "metadata": {},
   "source": [
    "# Play Dice 0927-23"
   ]
  },
  {
   "cell_type": "code",
   "execution_count": 3,
   "metadata": {},
   "outputs": [
    {
     "name": "stdout",
     "output_type": "stream",
     "text": [
      "===============骰子遊戲=================:\n",
      "\n",
      "骰子: 6, 4, 6, 3\n",
      "骰子點數不符遊戲規則\n",
      "結果:7\n",
      "還要繼續嗎?(y,n)遊戲結束\n"
     ]
    }
   ],
   "source": [
    "import random\n",
    "import pyinputplus as pyip\n",
    "\n",
    "def playGame():\n",
    "    min = 1\n",
    "    max = 6\n",
    "    count_same = 0\n",
    "    Dice_1 = random.randint(min, max)\n",
    "    Dice_2 = random.randint(min, max)\n",
    "    Dice_3 = random.randint(min, max)\n",
    "    Dice_4 = random.randint(min, max)\n",
    "    comp1 = 0\n",
    "    comp2 = 0\n",
    "    comp3 = 0\n",
    "    comp4 = 0\n",
    "    comp5 = 0\n",
    "    comp6 = 0\n",
    "    print(\"===============骰子遊戲=================:\\n\")\n",
    "    print(f\"骰子: {Dice_1}, {Dice_2}, {Dice_3}, {Dice_4}\")\n",
    "    while(True):\n",
    "        # 骰子比較\n",
    "        if (Dice_1 == Dice_2):\n",
    "            comp1 = Dice_1+Dice_2\n",
    "            count_same+=1\n",
    "        if (Dice_1 == Dice_3):\n",
    "            comp2 = Dice_1+Dice_3\n",
    "            count_same+=1 \n",
    "        if (Dice_1 == Dice_4):\n",
    "            comp3 = Dice_1+Dice_4\n",
    "            count_same+=1\n",
    "        if (Dice_2 == Dice_3):\n",
    "            comp4 = Dice_2+Dice_3\n",
    "            count_same+=1     \n",
    "        if (Dice_2 == Dice_4):\n",
    "            comp5 = Dice_2+Dice_4\n",
    "            count_same+=1\n",
    "        if (Dice_3 == Dice_4):\n",
    "            comp6 = Dice_3+Dice_4\n",
    "            count_same+=1 \n",
    "        # 骰子比較結果計算\n",
    "        Dice_sum= Dice_1+Dice_2+Dice_3+Dice_4\n",
    "        comp_sum= comp1+comp2+comp3+comp4+comp5+comp6\n",
    "        if (count_same == 2):\n",
    "            result= Dice_sum - comp_sum\n",
    "            print(f\"結果:{result}\")\n",
    "            break\n",
    "        elif(count_same == 6):\n",
    "            result= Dice_sum/2\n",
    "            print(f\"結果:{result}\")\n",
    "            break\n",
    "        else:\n",
    "            print(f\"骰子點數不符遊戲規則\")\n",
    "        \n",
    "while True:\n",
    "    playGame()\n",
    "    answer = pyip.inputYesNo(prompt=\"還要繼續嗎?(y,n)\",yesVal='y',noVal='n')\n",
    "    if not (answer == 'y'):\n",
    "        break\n",
    "print(\"遊戲結束\")"
   ]
  },
  {
   "cell_type": "markdown",
   "metadata": {},
   "source": []
  }
 ],
 "metadata": {
  "kernelspec": {
   "display_name": ".venv",
   "language": "python",
   "name": "python3"
  },
  "language_info": {
   "codemirror_mode": {
    "name": "ipython",
    "version": 3
   },
   "file_extension": ".py",
   "mimetype": "text/x-python",
   "name": "python",
   "nbconvert_exporter": "python",
   "pygments_lexer": "ipython3",
   "version": "3.10.8"
  },
  "orig_nbformat": 4
 },
 "nbformat": 4,
 "nbformat_minor": 2
}
